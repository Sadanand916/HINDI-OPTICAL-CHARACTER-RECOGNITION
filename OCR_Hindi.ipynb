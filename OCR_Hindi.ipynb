{
  "cells": [
    {
      "cell_type": "markdown",
      "metadata": {
        "id": "gUXcKG6LjEXu"
      },
      "source": [
        "# HINDI OPTICAL CHARACTER RECOGNITION"
      ]
    },
    {
      "cell_type": "code",
      "execution_count": null,
      "metadata": {
        "id": "QbnrZMg9i_y8"
      },
      "outputs": [],
      "source": [
        "import os\n",
        "import h5py\n",
        "import numpy as np\n",
        "from keras.preprocessing.image import ImageDataGenerator \n",
        "from keras import optimizers\n",
        "from tensorflow.keras.models import Sequential\n",
        "from tensorflow.keras.layers import Convolution2D,MaxPooling2D,Activation, Dropout, Flatten, Dense, BatchNormalization"
      ]
    },
    {
      "cell_type": "markdown",
      "metadata": {
        "id": "02M1B0etlJot"
      },
      "source": [
        "For our image genrator data set, we have used (from keras.preprocessing.image import ImageDataGenerator)"
      ]
    },
    {
      "cell_type": "code",
      "execution_count": null,
      "metadata": {
        "id": "gCKLfSltjWI1"
      },
      "outputs": [],
      "source": [
        "trainDataGen = ImageDataGenerator(\n",
        "\t\trotation_range = 5,\n",
        "\t\twidth_shift_range = 0.1,\n",
        "\t\theight_shift_range = 0.1,\n",
        "\t\trescale = 1.0/255,\n",
        "\t\tshear_range = 0.2,\n",
        "\t\tzoom_range = 0.2,\n",
        "\t\thorizontal_flip = False,\n",
        "\t\tfill_mode = 'nearest')\n",
        "\n",
        "test_datagen = ImageDataGenerator(rescale=1./255)\n",
        "\n",
        "trainGenerator = trainDataGen.flow_from_directory(\n",
        "\t\t\t\"DevanagariHandwrittenCharacterDataset/Train\",\n",
        "\t\t\ttarget_size = (32,32),\n",
        "\t\t\tbatch_size = 32,\n",
        "\t\t\tcolor_mode = \"grayscale\",\n",
        "\t\t\tclass_mode = \"categorical\")\n",
        "validation_generator = test_datagen.flow_from_directory(\n",
        "\t\t\t\"DevanagariHandwrittenCharacterDataset/Test\",\n",
        "\t\t\ttarget_size=(32,32),\n",
        "\t\t\tbatch_size=32,\n",
        "\t\t\tcolor_mode = \"grayscale\",\n",
        "\t\t\tclass_mode= 'categorical')"
      ]
    },
    {
      "cell_type": "code",
      "execution_count": null,
      "metadata": {
        "id": "HSnRkifyjsaC"
      },
      "outputs": [],
      "source": [
        "model = Sequential()\n",
        "\n",
        "#Layer1----------------------------------------------------------\n",
        "model.add(Convolution2D(filters = 32,\n",
        "\t\t\tkernel_size = (3,3),\n",
        "\t\t\tstrides = 1,\n",
        "\t\t\tactivation = \"relu\",\n",
        "\t\t\tinput_shape = (32,32,1)))\n",
        "\n",
        "model.add(BatchNormalization())\n",
        "model.add(MaxPooling2D(pool_size=(2, 2),\n",
        "\t\t\tstrides=(2, 2),\n",
        "\t\t\tpadding=\"same\"))\n",
        "\n",
        "#Layer2-------------------------------------------------------------\n",
        "model.add(Convolution2D(filters = 32,\n",
        "\t\t\tkernel_size = (3,3),\n",
        "\t\t\tstrides = 1,\n",
        "\t\t\tactivation = \"relu\",\n",
        "\t\t\tinput_shape = (32,32,1)))\n",
        "model.add(BatchNormalization())\n",
        "model.add(MaxPooling2D(pool_size=(2, 2),\n",
        "\t\t\tstrides=(2, 2),\n",
        "\t\t\tpadding=\"same\"))\n",
        "\n",
        "\n",
        "#Layers 3-----------------------------------------------------------\n",
        "model.add(Convolution2D(filters = 64,\n",
        "\t\t\tkernel_size = (3,3),\n",
        "\t\t\tstrides = 1,\n",
        "\t\t\tactivation = \"relu\"))\n",
        "model.add(BatchNormalization())\n",
        "model.add(MaxPooling2D(pool_size=(2, 2),\n",
        "\t\t\tstrides=(2, 2),\n",
        "\t\t\tpadding=\"same\"))\n",
        "\n",
        "\n",
        "#Layer 4--------------------------------------------------\n",
        "model.add(Convolution2D(filters = 64,\n",
        "\t\t\tkernel_size = (3,3),\n",
        "\t\t\tstrides= 1,\n",
        "\t\t\tactivation = \"relu\"))\n",
        "model.add(BatchNormalization())\n",
        "model.add(MaxPooling2D(pool_size=(2, 2),\n",
        "\t\t\tstrides=(2, 2),\n",
        "\t\t\tpadding=\"same\"))\n",
        "model.add(Flatten())"
      ]
    },
    {
      "cell_type": "code",
      "execution_count": null,
      "metadata": {
        "id": "V1ZYl-5djvT8"
      },
      "outputs": [],
      "source": [
        "#Fully Connected Layer 1----------------\n",
        "model.add(Dense(128,\n",
        "\t\tactivation = \"relu\",\n",
        "\t\tkernel_initializer = \"uniform\"))\n",
        "model.add(BatchNormalization())\n",
        "\n",
        "#Fully Connected Layer 2----------------\n",
        "model.add(Dense(64,\n",
        "\t\tactivation = \"relu\",\n",
        "\t\tkernel_initializer = \"uniform\"))\n",
        "model.add(BatchNormalization())\n",
        "\n",
        "#Fully Connected Layer 3----------------\n",
        "model.add(Dense(46,\n",
        "\t\tactivation = \"softmax\",\n",
        "\t\tkernel_initializer = \"uniform\"))\n",
        "\n",
        "#Compile Model---------------------------\n",
        "model.compile(optimizer = \"adam\", #We could have used SGD as well.\n",
        "\t\tloss = \"categorical_crossentropy\",\n",
        "\t\tmetrics = [\"accuracy\"])\n",
        "\n",
        "#Fit model on the loaded dataset---------\n",
        "res=model.fit_generator(\n",
        "\t\ttrainGenerator,\n",
        "\t\tepochs = 25,\n",
        "\t\tsteps_per_epoch = 2444,\n",
        "\t\tvalidation_data = validation_generator,\n",
        "\t\tvalidation_steps = 432\n",
        "\t\t)"
      ]
    }
  ],
  "metadata": {
    "colab": {
      "provenance": []
    },
    "kernelspec": {
      "display_name": "Python 3",
      "name": "python3"
    },
    "language_info": {
      "name": "python"
    }
  },
  "nbformat": 4,
  "nbformat_minor": 0
}
